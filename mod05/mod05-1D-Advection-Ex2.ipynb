{
 "cells": [
  {
   "cell_type": "markdown",
   "metadata": {},
   "source": [
    "# Module 04: Advection Dominated Problems\n",
    "\n",
    "## Lejo Flores\n",
    "\n"
   ]
  },
  {
   "cell_type": "code",
   "execution_count": null,
   "metadata": {},
   "outputs": [],
   "source": [
    "import numpy as np\n",
    "import matplotlib.pyplot as plt\n",
    "\n",
    "dx = 5.0\n",
    "dt = 10.0\n",
    "\n",
    "xmin = 0.0\n",
    "xmax = 4000.0\n",
    "\n",
    "t0 = 0.0\n",
    "tf = 10000.0\n",
    "\n",
    "Ks = 15.0\n",
    "dhdx = 30.0\n",
    "\n",
    "Ks = Ks/100.0*365.25\n",
    "dhdx = dhdx*(1/5280.0)"
   ]
  },
  {
   "cell_type": "code",
   "execution_count": null,
   "metadata": {},
   "outputs": [],
   "source": [
    "q = Ks*dhdx\n",
    "\n",
    "print('The Darcy velocity is ' + '{:.3f}'.format(q) + ' [m/yr]')"
   ]
  },
  {
   "cell_type": "code",
   "execution_count": null,
   "metadata": {},
   "outputs": [],
   "source": [
    "x = np.arange(xmin+dx/2, xmax, dx)\n",
    "Nx = x.size\n",
    "\n",
    "print('The number of cells is: Nx = ' + str(Nx))"
   ]
  },
  {
   "cell_type": "code",
   "execution_count": null,
   "metadata": {},
   "outputs": [],
   "source": [
    "t = np.arange(t0,tf+dt,dt)\n",
    "Nt = t.size\n",
    "print('The number of time steps: Nt = ' + str(Nt))"
   ]
  },
  {
   "cell_type": "markdown",
   "metadata": {},
   "source": [
    "### Setup Initial and Boundary Conditions"
   ]
  },
  {
   "cell_type": "code",
   "execution_count": null,
   "metadata": {},
   "outputs": [],
   "source": [
    "# Initial condition: concentration is 0 Bq/g everywhere except at x = 0,\n",
    "# where it is 1 Bq/g\n",
    "c0 = np.zeros((Nx,1))\n",
    "c0[0] = 1\n",
    "\n",
    "# Boundary condition: concentration is 1 Bq/g at x = 0 for all times\n",
    "cx0 = np.zeros((Nt))\n",
    "cx0[0:19] = 1.0\n"
   ]
  },
  {
   "cell_type": "markdown",
   "metadata": {},
   "source": [
    "### Preallocate Container for Solution"
   ]
  },
  {
   "cell_type": "code",
   "execution_count": null,
   "metadata": {},
   "outputs": [],
   "source": [
    "C = np.zeros((Nx,Nt))\n"
   ]
  },
  {
   "cell_type": "markdown",
   "metadata": {},
   "source": [
    "### Compute Solution"
   ]
  },
  {
   "cell_type": "code",
   "execution_count": null,
   "metadata": {},
   "outputs": [],
   "source": [
    "for i in np.arange(Nt):\n",
    "    \n",
    "    # Get initial conditions\n",
    "    if (i==0):\n",
    "        Cprev = c0\n",
    "    else:\n",
    "        Cprev = C[:,i-1]\n",
    "    \n",
    "    Cnext = np.zeros((Nx))\n",
    "    \n",
    "    for j in np.arange(Nx):\n",
    "        \n",
    "        if (j==0):\n",
    "            Cnext[0] = cx0[i]\n",
    "        else:\n",
    "            Cnext[j] = Cprev[j] + q*(dt/dx)*(Cprev[j-1] - Cprev[j])\n",
    "        \n",
    "    C[:,i] = Cnext"
   ]
  },
  {
   "cell_type": "markdown",
   "metadata": {},
   "source": [
    "### Plot solutions"
   ]
  },
  {
   "cell_type": "code",
   "execution_count": null,
   "metadata": {},
   "outputs": [],
   "source": [
    "## First off, let's change the font size for all of our plots to be more legible\n",
    "plt.rcParams.update({'font.size': 16})\n",
    "plt.figure(figsize=(16,10))\n",
    "\n",
    "for p in np.arange(0,Nt,50):\n",
    "    plt.plot(x,C[:,p],'b')\n",
    "\n",
    "plt.ylabel('Concentration [Bq/g]')\n",
    "plt.xlabel('Distance from Source [m]')\n"
   ]
  },
  {
   "cell_type": "code",
   "execution_count": null,
   "metadata": {},
   "outputs": [],
   "source": [
    "xx,tt = np.meshgrid(t,x)\n",
    "\n",
    "plt.figure(figsize=(16,10))\n",
    "\n",
    "plt.pcolormesh(tt,xx,C,cmap='plasma') \n",
    "plt.colorbar(label='Conc. [Bq/g]')\n",
    "plt.xlabel('Distance from Source [m]')\n",
    "plt.ylabel('Time [years]')\n"
   ]
  },
  {
   "cell_type": "code",
   "execution_count": null,
   "metadata": {},
   "outputs": [],
   "source": []
  }
 ],
 "metadata": {
  "kernelspec": {
   "display_name": "Python 3 (ipykernel)",
   "language": "python",
   "name": "python3"
  },
  "language_info": {
   "codemirror_mode": {
    "name": "ipython",
    "version": 3
   },
   "file_extension": ".py",
   "mimetype": "text/x-python",
   "name": "python",
   "nbconvert_exporter": "python",
   "pygments_lexer": "ipython3",
   "version": "3.8.11"
  }
 },
 "nbformat": 4,
 "nbformat_minor": 4
}
