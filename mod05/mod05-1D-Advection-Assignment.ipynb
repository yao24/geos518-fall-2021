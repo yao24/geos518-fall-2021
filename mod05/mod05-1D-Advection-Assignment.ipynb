{
 "cells": [
  {
   "cell_type": "markdown",
   "metadata": {},
   "source": [
    "# Module 04: Advection Dominated Systems Assignment\n",
    "\n",
    "# Name: Yao Gahounzo\n",
    "\n",
    "## Overview and Requirements\n",
    "\n",
    "___DISASTER!___ An earthquake has resulted in a partial meltdown of a nuclear reactor and the contamination of that reactor's cooling water tanks. The reactor automatically scrammed and the reactor hall was safe enough that the fuel rods were removed, but not before a significant leak of radioactive Cesium into the water stored in the tanks. Cs-137 is highly soluble in water and so the whole tank is effectively uniformly contaminated. What's worse, the earthquake also ruptured the cooling water tanks and contaminated water is now leaking into the aquifer. The location of the rupture is such that it is too dangerous to repair. \n",
    "\n",
    "Your job as a consultant is to conduct a \"worst case\" scenario modeling study in which the tank will continue to drain contaminated water into the aquifer at a constant rate of 0.05% of its volume per year. The aquifer is an unconfined aquifer that has a saturated hydraulic conductivity ($K_s$) of 15.0 cm/day and a constant regional head gradient $\\partial h/\\partial t$ of 30.0 ft/mile. \n",
    "\n",
    "Using your trusy advection-dominated code your wrote as a graduate student at Boise State, you know you can simply modify the boundary conditions to your model to examine the impact. Your solution notebook you turn in should have code that produces the following plots:\n",
    "\n",
    "* The concentration of the contaminant of the aquifer at the contamination site \n",
    "* Concentration profiles (concentration vs. distance) at every 50th time step of the simulation \n",
    "* The plot showing the evolution of concentration as a function of both distance from the contamination site and time\n",
    "* The breakthrough curve (concentration vs. time) at a location x = 1500 m\n",
    "\n",
    "Answer the following questions:\n",
    "* What time step did you have to select to get the Courant number as close to 1.0 as possible? \n",
    "* If you were to have to describe what was going to happen to the water quality at the town located 1.5 km from the contamination site, how would you describe in words how the water quality will behave in the future? \n",
    "* If concentrations below 0.05 GBq/g are considered safe for drinking water quallity, at the town 1.5 km away from the contamination site, how many years in the future will it take the contamination plume to arrive? And how long will the water be unusable? \n"
   ]
  },
  {
   "cell_type": "code",
   "execution_count": null,
   "metadata": {},
   "outputs": [],
   "source": [
    "import numpy as np\n",
    "import matplotlib.pyplot as plt\n",
    "\n",
    "dx = 5.0  # Spatial interval [m] - DON'T CHANGE\n",
    "dt = 16.0     # Time step [yr]\n",
    "\n",
    "# Fraction of initial tank volume lost each year [yr-1]\n",
    "k_tank = 0.0005 \n",
    "\n",
    "xmin = 0.0 # Origin: Contamination site\n",
    "xmax = 4000.0 # Edge of the domain\n",
    "\n",
    "t0 = 0.0 # Time that the tank broke\n",
    "tf = 10000.0 # End of simulation time\n",
    "\n",
    "Ks = 15.0 # Saturated hydraylic conductivity [cm/day]\n",
    "dhdx = 30.0 # Regional piezometric gradient [ft/mi]\n",
    "\n",
    "Ks = Ks/100.0*365.25 # Converting Ks from [cm/day] to [m/yr]\n",
    "dhdx = dhdx*(1/5280.0)"
   ]
  },
  {
   "cell_type": "code",
   "execution_count": null,
   "metadata": {},
   "outputs": [],
   "source": [
    "q = Ks*dhdx\n",
    "\n",
    "print('The Darcy velocity is ' + '{:.3f}'.format(q) + ' [m/yr]')"
   ]
  },
  {
   "cell_type": "code",
   "execution_count": null,
   "metadata": {},
   "outputs": [],
   "source": [
    "x = np.arange(xmin+dx/2, xmax, dx)\n",
    "Nx = x.size\n",
    "\n",
    "print('The number of cells is: Nx = ' + str(Nx))"
   ]
  },
  {
   "cell_type": "code",
   "execution_count": null,
   "metadata": {},
   "outputs": [],
   "source": [
    "t = np.arange(t0,tf+dt,dt)\n",
    "Nt = t.size\n",
    "print('The number of time steps: Nt = ' + str(Nt))"
   ]
  },
  {
   "cell_type": "code",
   "execution_count": null,
   "metadata": {},
   "outputs": [],
   "source": [
    "Courant = q*(dt/dx)\n",
    "\n",
    "print('The Courant number is ' + '{:.3f}'.format(Courant)+'. The optimal number is 1 to avoid numerical diffusion. Consider changing dt')"
   ]
  },
  {
   "cell_type": "markdown",
   "metadata": {},
   "source": [
    "### Setup Initial and Boundary Conditions"
   ]
  },
  {
   "cell_type": "code",
   "execution_count": null,
   "metadata": {},
   "outputs": [],
   "source": [
    "# Initial condition: concentration is 0 GBq/g everywhere except at x = 0,\n",
    "# where it is 1 Bq/g\n",
    "c0 = np.zeros((Nx,1))\n",
    "c0[0] = 1\n",
    "\n",
    "# Boundary condition: concentration decreases at a rate of k_tank [yr-1]\n",
    "\n",
    "csource = c0[0]*np.exp(-k_tank*t)\n",
    "\n",
    "plt.figure(figsize=(16,10))\n",
    "plt.rcParams.update({'font.size': 18})\n",
    "plt.plot(t,csource)\n",
    "plt.xlabel('Time after start of leak [yr]')\n",
    "plt.ylabel('Concentration at leak site [GBq/g]')\n",
    "plt.show()"
   ]
  },
  {
   "cell_type": "markdown",
   "metadata": {},
   "source": [
    "### Preallocate Container for Solution"
   ]
  },
  {
   "cell_type": "code",
   "execution_count": null,
   "metadata": {},
   "outputs": [],
   "source": [
    "C = np.zeros((Nx,Nt))\n"
   ]
  },
  {
   "cell_type": "markdown",
   "metadata": {},
   "source": [
    "### Compute Solution"
   ]
  },
  {
   "cell_type": "code",
   "execution_count": null,
   "metadata": {},
   "outputs": [],
   "source": [
    "for i in np.arange(Nt):\n",
    "    \n",
    "    # Get initial conditions\n",
    "    if (i==0):\n",
    "        Cprev = c0\n",
    "    else:\n",
    "        Cprev = C[:,i-1]\n",
    "    \n",
    "    Cnext = np.zeros((Nx))\n",
    "    \n",
    "    for j in np.arange(Nx):\n",
    "        \n",
    "        if (j==0):\n",
    "            Cnext[0] = csource[i]\n",
    "        else:\n",
    "            Cnext[j] = Cprev[j] + q*(dt/dx)*(Cprev[j-1] - Cprev[j])\n",
    "        \n",
    "    C[:,i] = Cnext"
   ]
  },
  {
   "cell_type": "markdown",
   "metadata": {},
   "source": [
    "### Plot solutions"
   ]
  },
  {
   "cell_type": "code",
   "execution_count": null,
   "metadata": {},
   "outputs": [],
   "source": [
    "## First off, let's change the font size for all of our plots to be more legible\n",
    "plt.rcParams.update({'font.size': 16})\n",
    "plt.figure(figsize=(16,10))\n",
    "\n",
    "for p in np.arange(0,Nt,50):\n",
    "    plt.plot(x,C[:,p],'b')\n",
    "\n",
    "plt.ylabel('Concentration [Bq/g]')\n",
    "plt.xlabel('Distance from Source [m]')\n",
    "plt.show()"
   ]
  },
  {
   "cell_type": "code",
   "execution_count": null,
   "metadata": {},
   "outputs": [],
   "source": [
    "xx,tt = np.meshgrid(t,x)\n",
    "\n",
    "plt.figure(figsize=(16,10))\n",
    "\n",
    "plt.pcolormesh(tt,xx,C,shading='auto',cmap='plasma') \n",
    "\n",
    "plt.colorbar(label='Conc. [GBq/g]')\n",
    "plt.xlabel('Distance from Source [m]')\n",
    "plt.ylabel('Time [years]')\n",
    "\n",
    "plt.show()"
   ]
  },
  {
   "cell_type": "markdown",
   "metadata": {},
   "source": [
    "The breakthrough curve (concentration vs. time) at a location x = 1500 m"
   ]
  },
  {
   "cell_type": "code",
   "execution_count": null,
   "metadata": {},
   "outputs": [],
   "source": [
    "ind = (np.absolute(x-1500)).argmin()\n",
    "\n",
    "cx = C[ind,:]\n",
    "    \n",
    "plt.rcParams.update({'font.size': 16})\n",
    "plt.figure(figsize=(16,10))\n",
    "\n",
    "plt.plot(t,cx)\n",
    "plt.ylabel('Concentration [Bq/g]')\n",
    "plt.xlabel('time [yrs]')\n",
    "plt.title('Concentration vs. time at a location x = 1500 m')\n",
    "plt.show()"
   ]
  },
  {
   "cell_type": "markdown",
   "metadata": {},
   "source": [
    " #### What time step did you have to select to get the Courant number as close to 1.0 as possible? \n",
    "\n",
    "\n",
    " I selected a time step of 16 years to obtain a courant number close to 1.0 \n"
   ]
  },
  {
   "cell_type": "markdown",
   "metadata": {},
   "source": [
    "#### If you were to have to describe what was going to happen to the water quality at the town located 1.5 km from the contamination site, how would you describe in words how the water quality will behave in the future? "
   ]
  },
  {
   "cell_type": "markdown",
   "metadata": {},
   "source": [
    "#### If concentrations below 0.05 GBq/g are considered safe for drinking water quallity, at the town 1.5 km away from the contamination site, how many years in the future will it take the contamination plume to arrive? And how long will the water be unusable? "
   ]
  },
  {
   "cell_type": "code",
   "execution_count": null,
   "metadata": {},
   "outputs": [],
   "source": []
  }
 ],
 "metadata": {
  "kernelspec": {
   "display_name": "Python 3 (ipykernel)",
   "language": "python",
   "name": "python3"
  },
  "language_info": {
   "codemirror_mode": {
    "name": "ipython",
    "version": 3
   },
   "file_extension": ".py",
   "mimetype": "text/x-python",
   "name": "python",
   "nbconvert_exporter": "python",
   "pygments_lexer": "ipython3",
   "version": "3.8.11"
  }
 },
 "nbformat": 4,
 "nbformat_minor": 4
}
