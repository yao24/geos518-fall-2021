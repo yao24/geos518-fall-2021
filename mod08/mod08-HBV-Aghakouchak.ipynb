{
 "cells": [
  {
   "cell_type": "code",
   "execution_count": 1,
   "metadata": {},
   "outputs": [],
   "source": [
    "import numpy as np\n",
    "import matplotlib.pyplot as plt\n",
    "\n",
    "PEm = []\n",
    "Tm = []\n",
    "\n",
    "date_beg\n",
    "date_end"
   ]
  },
  {
   "cell_type": "code",
   "execution_count": 3,
   "metadata": {},
   "outputs": [],
   "source": [
    "def derivs(t,P,Ta,SWE,DD,Tt,Su,Sumax,Sl,FC,beta,C,PEm,Tm,PWP,L,K0,K1,Kperc,K2,A):\n",
    "\n",
    "    # Calculate soil moisture\n",
    "    SM = Su/Sumax\n",
    "    \n",
    "    # If SWE is greater than zero, there *may* be snowmelt\n",
    "    if(SWE>0.0):\n",
    "        if(Ta>Tt):\n",
    "            Sm = DD*(Ta-Tt) # Snowmelt via degree-day factor\n",
    "        else:\n",
    "            Sm = 0 # No snowmelt if temperature does not exceed threshold\n",
    "    else: # If there is no SWE, by definition there is no snowmelt\n",
    "        Sm = 0\n",
    "    \n",
    "    # If there is precipitation, figure out it's phase\n",
    "    if(P>0):\n",
    "        if(Ta<=Tt):\n",
    "            SWE += P # All precip will be added to SWE storage\n",
    "            Peff = 0 # There is no effective, liquid precipitation\n",
    "        else:\n",
    "            Peff = (SM/FC)**beta*(P + Sm)\n",
    "    else: # If P == 0, then\n",
    "        Peff = (SM/FC)**beta*(P + Sm)\n",
    "\n",
    "    if((Peff)<(P+Sm)):\n",
    "        DRO = (P+Sm)-Peff\n",
    "    else:\n",
    "        DRO = 0\n",
    "        \n",
    "    # Evapotranspiration module\n",
    "    # Compute potential evapotranpiration based on climate and temperature,\n",
    "    # if temperature is low enough to result in a -ve PEa, then set to zero\n",
    "    mon = t.month # Need to do this\n",
    "\n",
    "    PEa = np.max((1 + C*(Ta - Tm[mon]))*PEm[mon],0.0) \n",
    "    \n",
    "    # Calculate actual evapotranspiration \n",
    "    if(SM<PWP):\n",
    "        Ea = PEa*(SM/PWP)\n",
    "    else:\n",
    "        Ea = PEa\n",
    "        \n",
    "    # Runoff module!\n",
    "    if(Su<=L):\n",
    "        Q0 = 0\n",
    "    else:\n",
    "        Q0 = K0*(Su-L)*A\n",
    "    Q1 = K1*Su*A\n",
    "    Qperc = Kperc*Su*A\n",
    "    Q2 = K2*Sl*A\n",
    "    \n",
    "    dSudt = Peff - Ea - Q0 - Q1 - Qperc\n",
    "    dSldt = Qperc - Q2\n",
    "\n",
    "    Qs = Q0 + Q1 + Q2\n",
    "\n",
    "    return [dSudt, dSldt, SWE, Sm, DRO, Ea, Qs]"
   ]
  },
  {
   "cell_type": "code",
   "execution_count": 4,
   "metadata": {},
   "outputs": [],
   "source": [
    "# Load in the P,T data\n",
    "\n",
    "# Run the model\n",
    "\n",
    "\n",
    "# Plot output\n",
    "\n",
    "# Compute metrics\n"
   ]
  },
  {
   "cell_type": "code",
   "execution_count": null,
   "metadata": {},
   "outputs": [],
   "source": []
  }
 ],
 "metadata": {
  "kernelspec": {
   "display_name": "Python 3",
   "language": "python",
   "name": "python3"
  },
  "language_info": {
   "codemirror_mode": {
    "name": "ipython",
    "version": 3
   },
   "file_extension": ".py",
   "mimetype": "text/x-python",
   "name": "python",
   "nbconvert_exporter": "python",
   "pygments_lexer": "ipython3",
   "version": "3.7.7"
  }
 },
 "nbformat": 4,
 "nbformat_minor": 4
}
