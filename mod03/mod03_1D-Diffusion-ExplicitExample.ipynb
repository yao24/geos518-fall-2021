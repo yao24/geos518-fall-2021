{
 "cells": [
  {
   "cell_type": "markdown",
   "metadata": {},
   "source": [
    "# Module 03: 1-D Diffusion Problem - Thawing Permafrost\n",
    "\n",
    "### 1. Introduction and Background\n",
    "\n",
    "In this notebook we are going to apply what we've learned about 1-dimensional diffusive processes to developing a model of how climate warming will effect permafrost. \n",
    "\n",
    "\n",
    "Below is the equation for 1-dimensional heat diffusion into a soil,\n",
    "$$\n",
    "\\rho_s \\cdot C_s \\cdot \\frac{\\partial T_s}{\\partial t} = \\frac{\\partial T_s}{\\partial z}\\left(k_s \\cdot \\frac{\\partial T_s}{\\partial z}\\right)\n",
    "$$\n",
    "\n",
    "where $\\rho_s$ (kg/m^3) is the bulk density of the soil, $C_s$ (J/(kg K)) is the heat capacity of the soil, $k_s$ (W/(m K)) is the thermal conductivity of the soil, $T_s$ is the temperature of the soil at some time $t$ and depth in the soil $z$. For the sake of simplicity, we're going to assume that the thermal conductivity is constant. This assumption is not strictly true, as $k_s$ changes with the amount and phase (frozen or liquid) of water in the soil. But it makes the math much simpler and is good starting point for a toy model. Under this assumption we can simplify the above equation to,\n",
    "\n",
    "$$\n",
    "\\rho_s \\cdot C_s \\cdot \\frac{\\partial T_s}{\\partial t} = k_s \\frac{\\partial T_s^2}{\\partial^2 z}\n",
    "$$\n",
    "\n",
    "Going further, if we also assume that the bulk density ($\\rho_s$) and heat capacity ($C_s$) are constant, then we can combine them with the thermal conductivity and reduce them to a single parameter that is often referred to as the _thermal diffusivity_ ($D_s$) and has dimensions of m^2/s, \n",
    "\n",
    "$$\n",
    "D_s = \\frac{k_s}{\\rho_s \\cdot C_s}\n",
    "$$\n",
    "\n",
    "Substituting into the above, we obtain the following governing equation that our model will solve, \n",
    "\n",
    "$$\n",
    "\\frac{\\partial T_s}{\\partial t} = D_s \\frac{\\partial T_s^2}{\\partial^2 z}\n",
    "$$\n",
    "\n",
    "### 2. Applying a Numerical Solution\n",
    "\n",
    "In this notebook, we will apply the forward time, centered time (FTCS) solution developed in Slingerland and Kump, an explicit method. We will divide our soil column into layers of equal thickness, specify boundary conditions at the top and bottom of our soil, as well as an initial condition and simulate the evolution of soil temperature over a 10 year period. Skipping the math of applying this method and go right to the finite difference solution. Using this method, we can solve for the soil temperature at the $(i+1)$th time and $j$th layer in the soil,\n",
    "\n",
    "$$\n",
    "T_{s,j}^{i+1} = s T_{s,j-1}^i + (1 - 2s)T_{s,j}^{i} + s T_{s,j+1}^i\n",
    "$$\n",
    "\n",
    "where $s$ combines the soil diffusivity, time step, and layer thickness as follows,\n",
    "\n",
    "$$\n",
    "s = D_s\\frac{\\Delta t}{\\Delta z^2}\n",
    "$$\n",
    "\n",
    "For our __top boundary condition__, we will assume sinusoidal forcing of air temperature at the surface, with a period of one year. We will then need to specify the mean annual temperature around which the surface air temperature fluctuates, and the amplitude of annual fluctuations. In this notebook we will use realistic, but synthetic, values for each. \n",
    "\n",
    "For our __bottom boundary condition__, we will assume a constant temperature at the mean annual air temperature specified above. \n",
    "\n",
    "Our __initial condition__ will be a constant temperature (isothermal) at the mean annual air temperature. If interested you can copy this notebook and modify these values.\n",
    "\n",
    "### 3. Initial Setup and Creating the Domain\n",
    "\n",
    "Below, we set the values for our spatial domain, simulation period, soil properties, and boundary conditions. "
   ]
  },
  {
   "cell_type": "code",
   "execution_count": null,
   "metadata": {},
   "outputs": [],
   "source": [
    "import numpy as np\n",
    "import matplotlib.pyplot as plt\n",
    "\n",
    "# Soil column properties\n",
    "zs = 500.0 # Depth of soil [cm]\n",
    "dz = 14.0   # Numerical model layer thickness [cm]\n",
    "\n",
    "# Soil properties (obtained from https://doi.org/10.1029/2017JF004535)\n",
    "Cs = 635.0 # Heat capacity of soil/permafrost [J/(kg K)]\n",
    "ks = 0.25  # Thermal conductivity of soil/permafrost [W/(m K)]\n",
    "rhos = 920.0 # Bulk density of permafrost [kg/m^3] \n",
    "\n",
    "# Time properties of simulation\n",
    "t0 = 0\n",
    "tf = 10*365         \n",
    "dt = 0.25\n",
    "\n",
    "# Boundary conditions\n",
    "Ttopbase = -7.0\n",
    "Ttopamp = 35.0\n",
    "Tbottom = -7.0"
   ]
  },
  {
   "cell_type": "markdown",
   "metadata": {},
   "source": [
    "#### 3.1 Setup the Soil Column Spatial Domain"
   ]
  },
  {
   "cell_type": "code",
   "execution_count": null,
   "metadata": {},
   "outputs": [],
   "source": [
    "z = np.arange(dz/2, zs, dz)\n",
    "Nz = z.size\n",
    "print('Here are the locations of our cells: z = \\n' + str(z))\n",
    "print('The number of cells is: Nz = ',str(Nz))"
   ]
  },
  {
   "cell_type": "markdown",
   "metadata": {},
   "source": [
    "#### 3.2 Setup the Simulation Time Period"
   ]
  },
  {
   "cell_type": "code",
   "execution_count": null,
   "metadata": {},
   "outputs": [],
   "source": [
    "t = np.arange(t0,tf+dt,dt)\n",
    "Nt = t.size\n",
    "print('Here are the time steps: t = \\n' + str(t))\n",
    "print('The number of time steps: Nt = ',str(Nt))"
   ]
  },
  {
   "cell_type": "markdown",
   "metadata": {},
   "source": [
    "#### 3.3 Calculate the Soil Diffusivity and Diffusion Number"
   ]
  },
  {
   "cell_type": "code",
   "execution_count": null,
   "metadata": {},
   "outputs": [],
   "source": [
    "# Calculate diffusivity of permafrost soil\n",
    "alpha = ks / (rhos * Cs)\n",
    "print('Soil diffusivity = '+str(alpha)+' m^2/s')\n",
    "\n",
    "# Convert alpha to units consistent with domain [cm^2/day]\n",
    "alpha = alpha*(100.0**2)*(24.0*3600.0)\n",
    "print('Soil diffusivity = '+str(alpha)+' cm^2/day')\n",
    "\n",
    "s = alpha*dt/(dz**2)\n",
    "print('Stability criterion '+str(s))"
   ]
  },
  {
   "cell_type": "markdown",
   "metadata": {},
   "source": [
    "### 4. Setup Boundary and Initial Conditions"
   ]
  },
  {
   "cell_type": "code",
   "execution_count": null,
   "metadata": {},
   "outputs": [],
   "source": [
    "Ttop = Ttopbase + (Ttopamp/2.0)*np.sin((2.0*np.pi/(365.0))*t)\n",
    "\n",
    "plt.figure(figsize=(10.0,7.0))\n",
    "plt.plot(t,Ttop)\n",
    "plt.xlabel('Time [days]')\n",
    "plt.ylabel('Air temperature [°C]')\n",
    "\n",
    "Ts0 = Tbottom*np.ones((Nz,1))"
   ]
  },
  {
   "cell_type": "markdown",
   "metadata": {},
   "source": [
    "### 5. Preallocate Memory for Temperature Simulation\n"
   ]
  },
  {
   "cell_type": "code",
   "execution_count": null,
   "metadata": {},
   "outputs": [],
   "source": [
    "Ts = np.zeros((Nz,Nt))"
   ]
  },
  {
   "cell_type": "markdown",
   "metadata": {},
   "source": [
    "### 6. Apply FTCS And Compute Temperatures"
   ]
  },
  {
   "cell_type": "code",
   "execution_count": null,
   "metadata": {},
   "outputs": [],
   "source": [
    "for i in np.arange(Nt):\n",
    "    for j in np.arange(Nz):\n",
    "        \n",
    "        # Check if we are at the initial time\n",
    "        if(i==0): \n",
    "            if(j==0):\n",
    "                T0zm1 = Ttop[i]\n",
    "                T0z   = Ts0[j]\n",
    "                T0zp1 = Ts0[j+1]\n",
    "            elif((j>0) and (j<(Nz-1))):\n",
    "                T0zm1 = Ts0[j-1]\n",
    "                T0z   = Ts0[j]\n",
    "                T0zp1 = Ts0[j+1]\n",
    "            elif(j==(Nz-1)):\n",
    "                T0zm1 = Ts0[j-1]\n",
    "                T0z   = Ts0[j]\n",
    "                T0zp1 = Tbottom\n",
    "        else:\n",
    "            if(j==0):\n",
    "                T0zm1 = Ttop[i]\n",
    "                T0z   = Ts[j,i-1]\n",
    "                T0zp1 = Ts[j+1,i-1]\n",
    "            elif((j>0) and (j<(Nz-1))):\n",
    "                T0zm1 = Ts[j-1,i-1]\n",
    "                T0z   = Ts[j,i-1]\n",
    "                T0zp1 = Ts[j+1,i-1]\n",
    "            elif(j==(Nz-1)):\n",
    "                T0zm1 = Ts[j-1,i-1]\n",
    "                T0z   = Ts[j,i-1]\n",
    "                T0zp1 = Tbottom\n",
    "\n",
    "        Tz = s*T0zm1 + (1.0 - 2.0*s)*T0z + s*T0zp1\n",
    "                 \n",
    "        Ts[j,i] = Tz\n"
   ]
  },
  {
   "cell_type": "markdown",
   "metadata": {},
   "source": [
    "### 7. Plot Results, Analyze, and Interpret\n",
    "\n",
    "First, let's create a pretty visualization of how temperature in the soil column changes with both depth below the surface and time. We will use the `pcolormesh` function in `matplotlib`. "
   ]
  },
  {
   "cell_type": "code",
   "execution_count": null,
   "metadata": {
    "scrolled": false
   },
   "outputs": [],
   "source": [
    "## First off, let's change the font size for all of our plots to be more legible\n",
    "plt.rcParams.update({'font.size': 16})\n",
    "\n",
    "tt,zz = np.meshgrid(t,z)\n",
    "\n",
    "plt.figure(figsize=(16,10)) # Create a figure and set the size\n",
    "\n",
    "# Notice we're plotting -zz to have the top of the soil at the top and negative\n",
    "# into the land surface\n",
    "plt.pcolormesh(tt,-zz,Ts,cmap='inferno') \n",
    "plt.colorbar(label='$T_s$ [°C]')\n",
    "plt.xlabel('Time [days]')\n",
    "plt.ylabel('Soil depth [cm]')"
   ]
  },
  {
   "cell_type": "markdown",
   "metadata": {},
   "source": [
    "Next, let's examine how the soil temperature evolves at several depths within the soil. Specifically, let's look at depths of 50, 100, 200, and 400 cm below the surface and plot how the temperature varies through time. Some important questions here:\n",
    "\n",
    "* At what depth do we no longer cross above 0.0 °C in any given year? What can we say about the active layer thickness based on this? \n",
    "* What happens to the amplitude of the annual temperature fluctuations as we go deeper in the soil? \n",
    "* What happens to the timing of the peak temperature as we go deeper into the soil? "
   ]
  },
  {
   "cell_type": "code",
   "execution_count": null,
   "metadata": {},
   "outputs": [],
   "source": [
    "iz50 = (np.absolute(z-50.0)).argmin()\n",
    "iz100 = (np.absolute(z-100.0)).argmin()\n",
    "iz200 = (np.absolute(z-200.0)).argmin()\n",
    "iz400 = (np.absolute(z-400.0)).argmin()\n",
    "\n",
    "plt.figure(figsize=(16,10))\n",
    "plt.plot(t,Ts[iz50,:],label='50 cm')\n",
    "plt.plot(t,Ts[iz100,:],label='100 cm')\n",
    "plt.plot(t,Ts[iz200,:],label='200 cm')\n",
    "plt.plot(t,Ts[iz400,:],label='400 cm')\n",
    "plt.xlabel('Time [Days]')\n",
    "plt.ylabel('Soil Temperature [°C]')\n",
    "plt.legend()"
   ]
  },
  {
   "cell_type": "markdown",
   "metadata": {},
   "source": [
    "Finally, let's repeat the 3-D plot of temperature versus time and depth into the soil, but we'll mask values that are above 0 °C and plot them as blue (i.e., something that's very different than our previous colormap). This will allow us to see more clearly where the permafrost has thawed (i.e., it's temperature is above 0 °C) and how long it remains thawed. Some key questions we could address or concepts we can show by plotting the data this way include:\n",
    "\n",
    "* What is the approximate thickness of the active layer based on this plot?\n",
    "* How long throughout the year does the near surface (e.g., the top 10 cm) stay thawed each year?\n",
    "* Do we notice any appreciable trends in active layer thickness at this time horizon? Why or why would you not expect one? "
   ]
  },
  {
   "cell_type": "code",
   "execution_count": null,
   "metadata": {},
   "outputs": [],
   "source": [
    "Ts_frozen = np.ma.masked_where(Ts>0.0,Ts)\n",
    "\n",
    "plt.figure(figsize=(16,10))\n",
    "current_cmap = plt.cm.get_cmap('inferno')\n",
    "current_cmap.set_bad(color='blue')\n",
    "plt.pcolormesh(tt,-zz,Ts_frozen,cmap=current_cmap)\n",
    "plt.colorbar(label='$T_s$ [°C]')\n",
    "plt.xlabel('Time [days]')\n",
    "plt.ylabel('Soil depth [cm]')"
   ]
  },
  {
   "cell_type": "markdown",
   "metadata": {},
   "source": [
    "### 8. A Final Couple Reflection Questions\n",
    "\n",
    "As you review this notebook, think about the following:\n",
    "\n",
    "* Why does the active layer seem to be thicker in the first year of the simulation? \n",
    "* If we changed the layer thickness $\\Delta z$, do we have to change the time step $\\Delta t$? Why? "
   ]
  },
  {
   "cell_type": "code",
   "execution_count": null,
   "metadata": {},
   "outputs": [],
   "source": []
  }
 ],
 "metadata": {
  "kernelspec": {
   "display_name": "Python 3",
   "language": "python",
   "name": "python3"
  },
  "language_info": {
   "codemirror_mode": {
    "name": "ipython",
    "version": 3
   },
   "file_extension": ".py",
   "mimetype": "text/x-python",
   "name": "python",
   "nbconvert_exporter": "python",
   "pygments_lexer": "ipython3",
   "version": "3.8.5"
  }
 },
 "nbformat": 4,
 "nbformat_minor": 4
}
