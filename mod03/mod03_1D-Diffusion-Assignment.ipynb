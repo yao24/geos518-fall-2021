{
 "cells": [
  {
   "cell_type": "markdown",
   "metadata": {},
   "source": [
    "# Module 03: Assignment for 1-D Diffusion Problem - Thawing Permafrost\n",
    "\n",
    "### 1. Introduction and Background\n",
    "\n",
    "In this notebook you are going to investigate the impact of three climate change scenarios on our previously developed model of the vertical distribution of temperature in a permafrost soil. \n",
    "\n",
    "\n",
    "Again, the equation for 1-dimensional heat diffusion into a soil is presented below:\n",
    "$$\n",
    "\\rho_s \\cdot C_s \\cdot \\frac{\\partial T_s}{\\partial t} = \\frac{\\partial T_s}{\\partial z}\\left(k_s \\cdot \\frac{\\partial T_s}{\\partial z}\\right)\n",
    "$$\n",
    "\n",
    "where $\\rho_s$ (kg/m^3) is the bulk density of the soil, $C_s$ (J/(kg K)) is the heat capacity of the soil, $k_s$ (W/(m K)) is the thermal conductivity of the soil, $T_s$ is the temperature of the soil at some time $t$ and depth in the soil $z$. For the sake of simplicity, we're going to assume that the thermal conductivity is constant. This assumption is not strictly true, as $k_s$ changes with the amount and phase (frozen or liquid) of water in the soil. But it makes the math much simpler and is good starting point for a toy model. Under this assumption we can simplify the above equation to,\n",
    "\n",
    "$$\n",
    "\\rho_s \\cdot C_s \\cdot \\frac{\\partial T_s}{\\partial t} = k_s \\frac{\\partial T_s^2}{\\partial^2 z}\n",
    "$$\n",
    "\n",
    "Going further, if we also assume that the bulk density ($rho_s$) and heat capacity ($C_s$) are constant, then we can combine them with the thermal conductivity and reduce them to a single parameter that is often referred to as the _thermal diffusivity_ ($D_s$) and has dimensions of m^2/s, \n",
    "\n",
    "$$\n",
    "D_s = \\frac{k_s}{\\rho_s \\cdot C_s}\n",
    "$$\n",
    "\n",
    "Substituting into the above, we obtain the following governing equation that our model will solve, \n",
    "\n",
    "$$\n",
    "\\frac{\\partial T_s}{\\partial t} = D_s \\frac{\\partial T_s^2}{\\partial^2 z}\n",
    "$$\n",
    "\n",
    "Your __top boundary condition__, we will assume sinusoidal forcing of air temperature superimposed on a linear trend in mean annual temperatures at the surface, with a period of one year. In this notebook we will explore three scenarios. Scenario 1 is a linear increase in mean annual temperature at a rate that results in 1.5 °C of warming by 2100. Scenario 2 is a linear increase in mean annual temperature at a rate that results in 3.0 °C of warming by 2100. Scenario 3 is a linear increase in mean annual temperature at a rate that results in 4.5 °C of warming by 2100. We will start all simulations in 2020. \n",
    "\n",
    "Your __bottom boundary condition__, we will assume a constant temperature at the initial mean annual air temperature. \n",
    "\n",
    "Yur __initial condition__ will be a constant temperature (isothermal) at the mean annual air temperature. If interested you can copy this notebook and modify these values.\n",
    "\n",
    "### 2. Initial Setup\n",
    "\n",
    "Below, we set the values for our spatial domain, simulation period, soil properties, and boundary conditions. "
   ]
  },
  {
   "cell_type": "code",
   "execution_count": null,
   "metadata": {},
   "outputs": [],
   "source": [
    "import numpy as np\n",
    "import matplotlib.pyplot as plt\n",
    "\n",
    "# Soil column properties\n",
    "zs = 500.0 # Depth of soil [cm]\n",
    "dz = 15.0   # Numerical model layer thickness [cm]\n",
    "\n",
    "# Soil properties (obtained from https://doi.org/10.1029/2017JF004535)\n",
    "Cs = 635.0 # Heat capacity of soil/permafrost [J/(kg K)]\n",
    "ks = 0.25  # Thermal conductivity of soil/permafrost [W/(m K)]\n",
    "rhos = 920.0 # Bulk density of permafrost [kg/m^3] \n",
    "\n",
    "dt = 0.25 # Time step [day]"
   ]
  },
  {
   "cell_type": "markdown",
   "metadata": {},
   "source": [
    "#### 2.1 Load and Plot the Air Temperature Trends"
   ]
  },
  {
   "cell_type": "code",
   "execution_count": null,
   "metadata": {},
   "outputs": [],
   "source": [
    "data = np.loadtxt('PermafrostTemperatureScenarios.csv', delimiter=',', skiprows=1)\n",
    "\n",
    "t_year = data[:,0]\n",
    "T_15 = data[:,1]\n",
    "T_30 = data[:,2]\n",
    "T_45 = data[:,3]"
   ]
  },
  {
   "cell_type": "code",
   "execution_count": null,
   "metadata": {},
   "outputs": [],
   "source": [
    "## First off, let's change the font size for all of our plots to be more legible\n",
    "plt.rcParams.update({'font.size': 16})\n",
    "\n",
    "plt.figure(figsize=(11.0,8.5))\n",
    "plt.plot(t_year,T_15,label='$\\Delta T$ = 1.5${}^{\\circ}$C')\n",
    "plt.plot(t_year,T_30,label='$\\Delta T$ = 3.0${}^{\\circ}$C')\n",
    "plt.plot(t_year,T_45,label='$\\Delta T$ = 4.5${}^{\\circ}$C')\n",
    "plt.legend(loc='upper left')\n",
    "plt.grid()\n",
    "plt.xlabel('Time [years]')\n",
    "plt.ylabel('Annual average air temperature [°C]')"
   ]
  },
  {
   "cell_type": "markdown",
   "metadata": {},
   "source": [
    "#### 2.2 Setup the Simulation Time Period"
   ]
  },
  {
   "cell_type": "code",
   "execution_count": null,
   "metadata": {},
   "outputs": [],
   "source": [
    "# Time properties of simulation\n",
    "t0 = t_year[0]\n",
    "tf = t_year[-1]\n",
    "\n",
    "t = np.arange(t0,tf+(dt/365),(dt/365))\n",
    "Nt = t.size\n",
    "print('The number of time steps: Nt = ',str(Nt))"
   ]
  },
  {
   "cell_type": "markdown",
   "metadata": {},
   "source": [
    "### 3. Setup Boundary Conditions"
   ]
  },
  {
   "cell_type": "code",
   "execution_count": null,
   "metadata": {},
   "outputs": [],
   "source": [
    "# Boundary conditions\n",
    "Ttopamp = 35.0\n",
    "Tbottom = -7.0"
   ]
  },
  {
   "cell_type": "code",
   "execution_count": null,
   "metadata": {},
   "outputs": [],
   "source": [
    "Ttop_15 = np.interp(t, t_year, T_15) + (Ttopamp/2.0)*np.sin((2.0*np.pi)*t)\n",
    "Ttop_30 = np.interp(t, t_year, T_30) + (Ttopamp/2.0)*np.sin((2.0*np.pi)*t)\n",
    "Ttop_45 = np.interp(t, t_year, T_45) + (Ttopamp/2.0)*np.sin((2.0*np.pi)*t)\n",
    "\n",
    "plt.figure(figsize=(10.0,7.0))\n",
    "plt.plot(t, Ttop_15, label='$\\Delta T$ = 1.5${}^{\\circ}$C')\n",
    "plt.plot(t, Ttop_30, label='$\\Delta T$ = 3.0${}^{\\circ}$C')\n",
    "plt.plot(t, Ttop_45, label='$\\Delta T$ = 4.5${}^{\\circ}$C')\n",
    "plt.xlabel('Time [years]')\n",
    "plt.ylabel('Daily air temperature [°C]')\n",
    "plt.legend(loc='upper left')\n",
    "plt.show()"
   ]
  },
  {
   "cell_type": "markdown",
   "metadata": {},
   "source": [
    "### 4. Setup Spatial Domain"
   ]
  },
  {
   "cell_type": "code",
   "execution_count": null,
   "metadata": {},
   "outputs": [],
   "source": [
    "z = np.arange(dz/2, zs, dz)\n",
    "Nz = z.size\n",
    "print('Here are the locations of our cells: z = \\n' + str(z))\n",
    "print('The number of cells is: Nz = ',str(Nz))"
   ]
  },
  {
   "cell_type": "markdown",
   "metadata": {},
   "source": [
    "### 5. Setup Initial Condition"
   ]
  },
  {
   "cell_type": "code",
   "execution_count": null,
   "metadata": {},
   "outputs": [],
   "source": [
    "Ts0 = Tbottom*np.ones((Nz,1))"
   ]
  },
  {
   "cell_type": "markdown",
   "metadata": {},
   "source": [
    "### 6. Calculate $D$, $\\mathbf{A}$, and $\\mathbf{B}$ Matrices for Implicit or Crank-Nicolson Method"
   ]
  },
  {
   "cell_type": "code",
   "execution_count": null,
   "metadata": {},
   "outputs": [],
   "source": [
    "# Calculate diffusivity of permafrost soil\n",
    "Ds = ks / (rhos * Cs)\n",
    "print('Soil diffusivity = '+str(Ds)+' m^2/s')\n",
    "\n",
    "# Convert alpha to units consistent with domain [cm^2/day]\n",
    "Ds = Ds*(100.0**2)*(24.0*3600.0)\n",
    "print('Soil diffusivity = '+str(Ds)+' cm^2/day')\n",
    "\n",
    "alpha = Ds*dt/(dz**2)\n",
    "print('Diffusion number '+str(alpha))"
   ]
  },
  {
   "cell_type": "code",
   "execution_count": null,
   "metadata": {},
   "outputs": [],
   "source": [
    "Delta2 = np.diag(-2.0*np.ones((Nz))) + np.diag(np.ones((Nz-1)),1) + np.diag(np.ones((Nz-1)),-1)\n",
    "I = np.eye(Nz)\n",
    "A = I - alpha*Delta2\n",
    "A[0,:] = np.hstack((1.0,np.zeros((Nz-1))))\n",
    "A[-1,:] = np.hstack((np.zeros((Nz-1)),1.0))"
   ]
  },
  {
   "cell_type": "markdown",
   "metadata": {},
   "source": [
    "### 7. Preallocate Storage for Soil Temperatures"
   ]
  },
  {
   "cell_type": "code",
   "execution_count": null,
   "metadata": {},
   "outputs": [],
   "source": [
    "#Ts = np.zeros((Nz,Nt))"
   ]
  },
  {
   "cell_type": "markdown",
   "metadata": {},
   "source": [
    "### 8. Apply Solution And Compute Temperatures"
   ]
  },
  {
   "cell_type": "code",
   "execution_count": null,
   "metadata": {},
   "outputs": [],
   "source": [
    "def Tss(Ttop):\n",
    "    Aiv = np.linalg.pinv(A)\n",
    "    Ts = np.zeros((Nz,Nt))\n",
    "    for i in np.arange(Nt):\n",
    "        if(i==0):\n",
    "            Tsi = Ts0\n",
    "        else:\n",
    "            Tsi = Ts[:,i-1]\n",
    "            Tsi[0] = Ttop[i]\n",
    "            Tsi[-1] = Tbottom\n",
    "\n",
    "        Tsip1 = np.matmul(Aiv,Tsi)\n",
    "\n",
    "        Ts[:,i] = np.squeeze(Tsip1)\n",
    "    return Ts"
   ]
  },
  {
   "cell_type": "markdown",
   "metadata": {},
   "source": [
    "### 9. Plot Results, Analyze, and Interpret\n",
    "\n",
    "Create plots of the following:\n",
    "\n",
    "1. A plot of 3 x 2 subplots of the vertical temperature distribution with time. Each row should correspond to each of the 3 climate change scenarios wiht the top row being the $\\Delta T$ = 1.5${}^{\\circ}$C, the middle being $\\Delta T$ = 3.0${}^{\\circ}$C, and the bottom row being $\\Delta T$ = 4.5${}^{\\circ}$C. The left column should correspond to the ___first___ 10 years of simulation, and the right column the ___last___ 10 years of simulation.\n",
    "2. A plot of 2 x 2 subplots of the temperature at four different levels. One subplot of temperature versus time for all three scenarios at a depth of 50 cm, the second subplot the same information at 100 cm, the third subplot the same information at 200 cm, and the fourth subplot the same information at 400 cm. \n",
    "3. A markdown table showing the approximate depth of the active layer for each scenario for the first, a middle, and the final decade of the simulation.  "
   ]
  },
  {
   "cell_type": "code",
   "execution_count": null,
   "metadata": {},
   "outputs": [],
   "source": [
    "Ts15 = Tss(Ttop_15)\n",
    "Ts30 = Tss(Ttop_30)\n",
    "Ts45 = Tss(Ttop_45)"
   ]
  },
  {
   "cell_type": "code",
   "execution_count": null,
   "metadata": {},
   "outputs": [],
   "source": [
    "tt,zz = np.meshgrid(t_year[:10],z)\n",
    "ttt,zz = np.meshgrid(t_year[-10:],z)\n",
    "plt.figure(figsize=(16,10))\n",
    "\n",
    "plt.subplot(3,2,1)\n",
    "plt.pcolormesh(tt,-zz,Ts15[:,:10],shading='auto',cmap='inferno') \n",
    "plt.colorbar()\n",
    "#plt.xlabel('Time [days]')\n",
    "plt.ylabel('Soil depth [cm]')\n",
    "\n",
    "plt.subplot(3,2,2)\n",
    "plt.pcolormesh(ttt,-zz,Ts15[:,-10:],shading='auto',cmap='inferno') \n",
    "plt.colorbar(label='$T_s$ [°C]')\n",
    "#plt.xlabel('Time [days]')\n",
    "#plt.ylabel('Soil depth [cm]')\n",
    "\n",
    "plt.subplot(3,2,3)\n",
    "plt.pcolormesh(tt,-zz,Ts30[:,:10],shading='auto',cmap='inferno') \n",
    "plt.colorbar()\n",
    "#plt.xlabel('Time [days]')\n",
    "plt.ylabel('Soil depth [cm]')\n",
    "\n",
    "plt.subplot(3,2,4)\n",
    "plt.pcolormesh(ttt,-zz,Ts30[:,-10:],shading='auto',cmap='inferno') \n",
    "plt.colorbar(label='$T_s$ [°C]')\n",
    "#plt.xlabel('Time [days]')\n",
    "#plt.ylabel('Soil depth [cm]')\n",
    "\n",
    "plt.subplot(3,2,5)\n",
    "plt.pcolormesh(tt,-zz,Ts45[:,:10],shading='auto',cmap='inferno') \n",
    "plt.colorbar()\n",
    "plt.xlabel('Time [days]')\n",
    "plt.ylabel('Soil depth [cm]')\n",
    "\n",
    "plt.subplot(3,2,6)\n",
    "plt.pcolormesh(ttt,-zz,Ts45[:,-10:],shading='auto',cmap='inferno') \n",
    "plt.colorbar(label='$T_s$ [°C]')\n",
    "plt.xlabel('Time [days]')\n",
    "#plt.ylabel('Soil depth [cm]')"
   ]
  },
  {
   "cell_type": "markdown",
   "metadata": {},
   "source": [
    "2. A plot of 2 x 2 subplots of the temperature at four different levels. One subplot of temperature versus time for all three scenarios at a depth of 50 cm, the second subplot the same information at 100 cm, the third subplot the same information at 200 cm, and the fourth subplot the same information at 400 cm. "
   ]
  },
  {
   "cell_type": "code",
   "execution_count": null,
   "metadata": {},
   "outputs": [],
   "source": [
    "iz50 = (np.absolute(z-50.0)).argmin()\n",
    "iz100 = (np.absolute(z-100.0)).argmin()\n",
    "iz200 = (np.absolute(z-200.0)).argmin()\n",
    "iz400 = (np.absolute(z-400.0)).argmin()\n"
   ]
  },
  {
   "cell_type": "code",
   "execution_count": null,
   "metadata": {
    "scrolled": false
   },
   "outputs": [],
   "source": [
    "plt.figure(figsize=(16,10))\n",
    "plt.subplot(2,2,1)\n",
    "plt.plot(t,Ts15[iz50,:],'.',label='$\\Delta T 1.5$')\n",
    "plt.plot(t,Ts30[iz50,:],label='$\\Delta T 3.0$')\n",
    "plt.plot(t,Ts45[iz50,:],':',label='$\\Delta T 4.5$')\n",
    "plt.legend()\n",
    "plt.title('Depth=50cm')\n",
    "\n",
    "plt.subplot(2,2,2)\n",
    "plt.plot(t,Ts15[iz100,:],'.',label='$\\Delta T 1.5$')\n",
    "plt.plot(t,Ts30[iz100,:],label='$\\Delta T 3.0$')\n",
    "plt.plot(t,Ts45[iz100,:],':',label='$\\Delta T 4.5$')\n",
    "plt.legend()\n",
    "plt.title('Depth=100cm')\n",
    "\n",
    "plt.subplot(2,2,3)\n",
    "plt.plot(t,Ts15[iz200,:],'.',label='$\\Delta T 1.5$')\n",
    "plt.plot(t,Ts30[iz200,:],label='$\\Delta T 3.0$')\n",
    "plt.plot(t,Ts45[iz200,:],':',label='$\\Delta T 4.5$')\n",
    "plt.legend()\n",
    "plt.grid()\n",
    "plt.title('Depth=200cm')\n",
    "\n",
    "plt.subplot(2,2,4)\n",
    "plt.plot(t,Ts15[iz400,:],label='$\\Delta T 1.5$')\n",
    "plt.plot(t,Ts30[iz400,:],label='$\\Delta T 3.0$')\n",
    "plt.plot(t,Ts45[iz400,:],label='$\\Delta T 4.5$')\n",
    "plt.legend()\n",
    "plt.title('Depth=400cm')\n"
   ]
  },
  {
   "cell_type": "markdown",
   "metadata": {},
   "source": [
    "3. A markdown table showing the approximate depth of the active layer for each scenario for the first, a middle, and the final decade of the simulation.  "
   ]
  },
  {
   "cell_type": "markdown",
   "metadata": {},
   "source": [
    "| Years  | 1.5   | 3.0   | 4.5   |\n",
    "|--------|-------|-------|-------|\n",
    "| first  | 200cm | 200cm | 198cm |\n",
    "| middle | 200cm | 215cm | 240cm |\n",
    "| final  | 200cm | 245cm | 270cm |"
   ]
  },
  {
   "cell_type": "code",
   "execution_count": null,
   "metadata": {},
   "outputs": [],
   "source": []
  }
 ],
 "metadata": {
  "kernelspec": {
   "display_name": "Python 3",
   "language": "python",
   "name": "python3"
  },
  "language_info": {
   "codemirror_mode": {
    "name": "ipython",
    "version": 3
   },
   "file_extension": ".py",
   "mimetype": "text/x-python",
   "name": "python",
   "nbconvert_exporter": "python",
   "pygments_lexer": "ipython3",
   "version": "3.8.5"
  }
 },
 "nbformat": 4,
 "nbformat_minor": 4
}
